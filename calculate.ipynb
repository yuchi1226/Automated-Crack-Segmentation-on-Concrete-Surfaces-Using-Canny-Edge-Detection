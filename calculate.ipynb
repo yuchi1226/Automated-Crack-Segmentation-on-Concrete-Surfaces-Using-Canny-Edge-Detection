{
 "cells": [
  {
   "cell_type": "code",
   "execution_count": 26,
   "metadata": {},
   "outputs": [
    {
     "name": "stdout",
     "output_type": "stream",
     "text": [
      "Precision: 0.6462\n",
      "Recall: 0.8182\n",
      "F-Measure: 0.7221\n",
      "\n",
      "\n"
     ]
    },
    {
     "data": {
      "text/plain": [
       "\"\\n# 顯示圖片\\nplt.figure(figsize=(15, 5))\\n\\nplt.subplot(131)\\nplt.imshow(ground_truth, cmap='gray')\\nplt.title('Ground Truth')\\n\\nplt.subplot(132)\\nplt.imshow(edge_result, cmap='gray')\\nplt.title('Edge Detection Result')\\n\\nplt.subplot(133)\\nplt.imshow(np.logical_and(ground_truth_bin == 255, edge_result_bin == 255), cmap='gray')\\nplt.title('True Positive')\\n\\nplt.show()\\n\""
      ]
     },
     "execution_count": 26,
     "metadata": {},
     "output_type": "execute_result"
    }
   ],
   "source": [
    "import cv2\n",
    "import numpy as np\n",
    "from matplotlib import pyplot as plt\n",
    "from sklearn.metrics import precision_score, recall_score, f1_score\n",
    "\n",
    "# 讀取圖片\n",
    "ground_truth = cv2.imread('/home/yuchi/Canny_Detection/crackforest/Masks_copy/001_label.PNG', 0)\n",
    "edge_result = cv2.imread('/home/yuchi/Canny_Detection/crackforest/Output/001.jpg', 0)\n",
    "\n",
    "# 確保兩張圖片大小相同\n",
    "assert ground_truth.shape == edge_result.shape, \"Images must have same dimensions\"\n",
    "\n",
    "# 將圖片轉換為二值圖像（閾值可以根據需要調整）\n",
    "_, ground_truth_bin = cv2.threshold(ground_truth, 127, 255, cv2.THRESH_BINARY)\n",
    "_, edge_result_bin = cv2.threshold(edge_result, 127, 255, cv2.THRESH_BINARY)\n",
    "\n",
    "# 計算評估指標\n",
    "TP = np.sum(np.logical_and(ground_truth_bin == 255, edge_result_bin == 255))\n",
    "FP = np.sum(np.logical_and(ground_truth_bin == 0, edge_result_bin == 255))\n",
    "FN = np.sum(np.logical_and(ground_truth_bin == 255, edge_result_bin == 0))\n",
    "\n",
    "'''\n",
    "# 計算Precision, Recall, F-Measure\n",
    "precision = TP / (TP + FP)\n",
    "recall = TP / (TP + FN)\n",
    "f_measure = 2 * (precision * recall) / (precision + recall)\n",
    "'''\n",
    "\n",
    "threshold=128\n",
    "true_image = cv2.imread(f'/home/yuchi/Canny_Detection/crackforest/Masks_copy/022_label.PNG', 0)\n",
    "pred_image = cv2.imread(f'/home/yuchi/Canny_Detection/crackforest/Output/022.jpg', 0)\n",
    "# 二值化处理\n",
    "true_binary = (true_image > threshold).astype(np.uint8).flatten()\n",
    "pred_binary = (pred_image > threshold).astype(np.uint8).flatten()\n",
    "\n",
    "precision = precision_score(true_binary, pred_binary, zero_division=0)\n",
    "recall = recall_score(true_binary, pred_binary, zero_division=0)\n",
    "f1 = f1_score(true_binary, pred_binary, zero_division=0)\n",
    "\n",
    "print(f\"Precision: {precision:.4f}\")\n",
    "print(f\"Recall: {recall:.4f}\")\n",
    "print(f\"F-Measure: {f1:.4f}\")\n",
    "print(\"\\n\")\n",
    "'''\n",
    "# 顯示圖片\n",
    "plt.figure(figsize=(15, 5))\n",
    "\n",
    "plt.subplot(131)\n",
    "plt.imshow(ground_truth, cmap='gray')\n",
    "plt.title('Ground Truth')\n",
    "\n",
    "plt.subplot(132)\n",
    "plt.imshow(edge_result, cmap='gray')\n",
    "plt.title('Edge Detection Result')\n",
    "\n",
    "plt.subplot(133)\n",
    "plt.imshow(np.logical_and(ground_truth_bin == 255, edge_result_bin == 255), cmap='gray')\n",
    "plt.title('True Positive')\n",
    "\n",
    "plt.show()\n",
    "'''"
   ]
  }
 ],
 "metadata": {
  "kernelspec": {
   "display_name": "torch230",
   "language": "python",
   "name": "python3"
  },
  "language_info": {
   "codemirror_mode": {
    "name": "ipython",
    "version": 3
   },
   "file_extension": ".py",
   "mimetype": "text/x-python",
   "name": "python",
   "nbconvert_exporter": "python",
   "pygments_lexer": "ipython3",
   "version": "3.10.15"
  }
 },
 "nbformat": 4,
 "nbformat_minor": 2
}
